{
 "cells": [
  {
   "cell_type": "code",
   "execution_count": null,
   "id": "c17733c6",
   "metadata": {},
   "outputs": [],
   "source": [
    "import pandas as pd\n",
    "import matplotlib.pyplot as plt\n",
    "import seaborn\n",
    "import re\n",
    "import matplotlib.transforms as transforms\n",
    "\n",
    "# A/N: this was developed on JuPyter from the Anaconda 3 suite\n",
    "# The elaboration of the csv files is carried out by using the Pandas dataframes,\n",
    "# along with many roundtrips around different data structures such as dictionaries, lists, etc.\n",
    "\n",
    "Activities = @TODO add file path\n",
    "Labels = @TODO add file path\n",
    "\n",
    "# csv's are currently imported by hardcoding the local path into the script."
   ]
  },
  {
   "cell_type": "code",
   "execution_count": null,
   "id": "88a6f69b",
   "metadata": {
    "scrolled": false
   },
   "outputs": [],
   "source": [
    "logsDf = pd.read_csv(Activities)\n",
    "logsDf.insert(4, 'Cluster', value = 0, allow_duplicates=False)\n",
    "labelsDf = pd.read_csv(Labels)\n",
    "labelsDf"
   ]
  },
  {
   "cell_type": "code",
   "execution_count": null,
   "id": "071ee4e7",
   "metadata": {
    "scrolled": true
   },
   "outputs": [],
   "source": [
    "logsDf['LogName']=logsDf['LogName'].str.replace(r'.xes', '', regex=True)\n",
    "for i in range(len(logsDf)):\n",
    "    for j in range(len(labelsDf)):\n",
    "        if logsDf.at[i, 'LogName'] == labelsDf.at[j, 'LogName']:\n",
    "            value = labelsDf.at[j, 'ClusterId']\n",
    "            logsDf.at[i, 'Cluster'] = value\n",
    "logsDf"
   ]
  },
  {
   "cell_type": "code",
   "execution_count": null,
   "id": "8ebae3c3",
   "metadata": {
    "scrolled": false
   },
   "outputs": [],
   "source": [
    "grouped_activities_dict = {}\n",
    "grouped_activities_dict = logsDf.groupby('Cluster')['Activity'].unique() \n",
    "dict((grouped_activities_dict))\n",
    "for key in grouped_activities_dict.keys():\n",
    "    grouped_activities_dict[key] = grouped_activities_dict[key]\n",
    "\n",
    "sets_df = pd.DataFrame(grouped_activities_dict)\n",
    "sets_df\n",
    "#to be exact, it's a lists_df\n"
   ]
  },
  {
   "cell_type": "code",
   "execution_count": null,
   "id": "45bcf07b",
   "metadata": {
    "scrolled": true
   },
   "outputs": [],
   "source": [
    "activities_lists_dict = {}\n",
    "\n",
    "for i in range (len(sets_df)): # numero cluster: i\n",
    "    for j in range (len(sets_df.at[i,'Activity'])): #numero attivita: j\n",
    "        if sets_df.at[i, 'Activity'][j] in activities_lists_dict:\n",
    "            activities_lists_dict[sets_df.at[i, 'Activity'][j]].append(i)\n",
    "           \n",
    "        else:\n",
    "            activities_lists_dict[sets_df.at[i, 'Activity'][j]]=[] # add the new key x value pair\n",
    "            activities_lists_dict[sets_df.at[i, 'Activity'][j]].append(i)\n",
    "\n",
    "\n",
    "            \n",
    "            \n",
    "activities_lists_dict\n",
    "\n",
    "# we currently have a dictionary of activity x (list of clusters)"
   ]
  },
  {
   "cell_type": "code",
   "execution_count": null,
   "id": "17ea5354",
   "metadata": {},
   "outputs": [],
   "source": [
    "activities_lists_dict2 = {}\n",
    "\n",
    "for k in activities_lists_dict.keys():\n",
    "    if len(activities_lists_dict[k]) in activities_lists_dict2:\n",
    "        activities_lists_dict2[len(activities_lists_dict[k])].append(k)\n",
    "    else:\n",
    "        activities_lists_dict2[len(activities_lists_dict[k])] = []\n",
    "        activities_lists_dict2[len(activities_lists_dict[k])].append(k)\n",
    "\n",
    "activities_lists_dict2 # contains pairs of N x activities which appear in N clusters, now we sort this descending.\n",
    "\n"
   ]
  },
  {
   "cell_type": "code",
   "execution_count": null,
   "id": "3e9e3bef",
   "metadata": {},
   "outputs": [],
   "source": [
    "final_activities_list = []\n",
    "for key in sorted(activities_lists_dict2):\n",
    "    for a in range(len(activities_lists_dict2[key])):\n",
    "        final_activities_list = [activities_lists_dict2[key][a]] + final_activities_list\n",
    "\n",
    "final_activities_list"
   ]
  },
  {
   "cell_type": "code",
   "execution_count": null,
   "id": "e85f3dcd",
   "metadata": {
    "scrolled": false
   },
   "outputs": [],
   "source": [
    "df_mapping = pd.DataFrame(final_activities_list)\n",
    "dict1 = df_mapping.to_dict()\n",
    "dict2 = dict1[0]\n",
    "\n",
    "\n",
    "def get_key(val):\n",
    "    for key, value in dict2.items():\n",
    "         if val == value:\n",
    "                return key\n",
    " \n",
    "    return 99"
   ]
  },
  {
   "cell_type": "code",
   "execution_count": null,
   "id": "33e712e7",
   "metadata": {},
   "outputs": [],
   "source": [
    "logsDf['sorting'] = 0\n",
    "for i in range (len(logsDf)):\n",
    "    logsDf.at[i, 'sorting'] = get_key(logsDf.at[i, 'Activity'])\n",
    "\n",
    "logsDf"
   ]
  },
  {
   "cell_type": "code",
   "execution_count": null,
   "id": "9d111c9f",
   "metadata": {
    "scrolled": false
   },
   "outputs": [],
   "source": [
    "logsDf.sort_values(by=['sorting'], inplace=True)\n",
    "logsDf"
   ]
  },
  {
   "cell_type": "code",
   "execution_count": null,
   "id": "7a3db696",
   "metadata": {
    "scrolled": true
   },
   "outputs": [],
   "source": [
    "labelsDf"
   ]
  },
  {
   "cell_type": "code",
   "execution_count": null,
   "id": "69a964b9",
   "metadata": {
    "scrolled": false
   },
   "outputs": [],
   "source": [
    "cluster_edges_list = []\n",
    "labelsDf.sort_values(by=['ClusterId'], inplace=True)\n",
    "\n",
    "for i in range(len(labelsDf)-1):\n",
    "    if labelsDf.at[i, 'ClusterId'] == labelsDf.at[i+1, 'ClusterId']:\n",
    "        pass\n",
    "    else:\n",
    "        cluster_edges_list.append(i+1)\n",
    "\n",
    "\n",
    "    \n",
    "\n",
    "cluster_edges_list\n"
   ]
  },
  {
   "cell_type": "code",
   "execution_count": null,
   "id": "2648982b",
   "metadata": {},
   "outputs": [],
   "source": [
    "logs_list = labelsDf['LogName']\n",
    "    \n",
    "    \n",
    "all_activities_list = logsDf['Activity'].unique()\n",
    "output_df = pd.DataFrame(columns=final_activities_list, index=logs_list)\n",
    "output_df = output_df.fillna(0)\n",
    "output_df"
   ]
  },
  {
   "cell_type": "code",
   "execution_count": null,
   "id": "466b11e5",
   "metadata": {
    "scrolled": false
   },
   "outputs": [],
   "source": [
    "for j in range (len(logsDf)):\n",
    "    if logsDf.at[j,'LogName'].strip(\"'\") in output_df.index and logsDf.at[j, 'Activity'].strip(\"'\") in final_activities_list:\n",
    "        row = logsDf.at[j,'LogName']\n",
    "        col = logsDf.at[j, 'Activity']\n",
    "        if logsDf.at[j, 'IsRepeating'] == 0:\n",
    "            output_df.loc[row, col] = 0.5 #NOT REPEATING\n",
    "        else:\n",
    "            if logsDf.at[j, 'IsRepeating'] == 1:\n",
    "                output_df.loc[row, col] = 1\n",
    "output_df"
   ]
  },
  {
   "cell_type": "code",
   "execution_count": null,
   "id": "a70d0e96",
   "metadata": {
    "scrolled": true
   },
   "outputs": [],
   "source": [
    "plt.figure(figsize=(60, 60))\n",
    "ax = seaborn.heatmap(output_df, cmap=\"Greens\")\n",
    "# A/N: in this visualization, the color scale which is shown by default on the right side of the heat map\n",
    "# can very well feel unnecessary: if so, it can be easily omitted by adding cbar=False along with the other\n",
    "# parameters of seaborn.heatmap()\n",
    "ax.hlines(cluster_edges_list, *ax.get_xlim()) #adds lines that mark the edges between clusters\n",
    "\n",
    "ax.tick_params(right=False, top=True, labelright=False, labeltop=True)\n",
    "\n",
    "\n",
    "\n",
    "\n",
    "plt.show()"
   ]
  },
  {
   "cell_type": "code",
   "execution_count": null,
   "id": "231e48db",
   "metadata": {},
   "outputs": [],
   "source": []
  }
 ],
 "metadata": {
  "kernelspec": {
   "display_name": "Python 3 (ipykernel)",
   "language": "python",
   "name": "python3"
  },
  "language_info": {
   "codemirror_mode": {
    "name": "ipython",
    "version": 3
   },
   "file_extension": ".py",
   "mimetype": "text/x-python",
   "name": "python",
   "nbconvert_exporter": "python",
   "pygments_lexer": "ipython3",
   "version": "3.9.7"
  }
 },
 "nbformat": 4,
 "nbformat_minor": 5
}
